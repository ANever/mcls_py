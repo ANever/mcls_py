{
 "cells": [
  {
   "cell_type": "code",
   "execution_count": 2,
   "metadata": {},
   "outputs": [
    {
     "name": "stdout",
     "output_type": "stream",
     "text": [
      "Iterations to converge:  61\n"
     ]
    }
   ],
   "source": [
    "from solution import Solution\n",
    "from basis import Basis\n",
    "import numpy as np\n",
    "\n",
    "def f_collocation_points(N):\n",
    "    points = np.zeros(N+1)\n",
    "    h = 2/(N+1)\n",
    "    points[0] = -1 + h/2\n",
    "    for i in range(1, N+1):\n",
    "        points[i] = points[i-1] + h\n",
    "    return np.array(points).reshape(N+1,1)\n",
    "colloc_points = f_collocation_points(4)\n",
    "\n",
    "\n",
    "power = 5\n",
    "params = {\n",
    "    'n_dims': 1,\n",
    "    'dim_sizes': np.array([5]),\n",
    "    'area_lims': np.array([[0,1]]),\n",
    "    'power': power,\n",
    "    'basis': Basis(power),\n",
    "}\n",
    "sol = Solution(**params)\n",
    "\n",
    "\n",
    "w = (sol.steps[0]/2)\n",
    "\n",
    "colloc_left_operators = [lambda u_loc, u_bas, x, x_loc: u_bas([4]) * (w**4)]\n",
    "colloc_right_operators = [lambda u_loc, u_nei, x, x_loc: np.exp(x)*(x**4 + 14*(x**3) + 49*(x**2) + 32*x - 12) * (w**4)]\n",
    "colloc_ops = [colloc_left_operators, colloc_right_operators]\n",
    "\n",
    "border_left_operators = [lambda _, u_bas, x, x_loc: u_bas([0]), \n",
    "                            lambda _, u_bas, x, x_loc: u_bas([1]) * w]\n",
    "border_right_operators = [lambda u, _, x, x_loc: 0,\n",
    "                            lambda u, _, x, x_loc: 0 * w]\n",
    "border_ops = [border_left_operators, border_right_operators]\n",
    "\n",
    "#colloc_points = np.linspace(-1,1,6,endpoint=False)[1:].reshape(5,1)\n",
    "connect_points = np.array([[-1], [1]])\n",
    "border_points = connect_points\n",
    "\n",
    "points = (colloc_points, connect_points, border_points)\n",
    "# border_points = [-1, 1]\n",
    "\n",
    "iteration_dict = {'points':points,\n",
    "'colloc_ops':colloc_ops,\n",
    " 'border_ops':border_ops}\n",
    "\n",
    "sol.solve(verbose = True, **iteration_dict)"
   ]
  },
  {
   "cell_type": "code",
   "execution_count": 3,
   "metadata": {},
   "outputs": [
    {
     "data": {
      "image/png": "[encoded data removed]",
      "text/plain": [
       "<Figure size 432x288 with 1 Axes>"
      ]
     },
     "metadata": {
      "needs_background": "light"
     },
     "output_type": "display_data"
    }
   ],
   "source": [
    "sol.plot()"
   ]
  },
  {
   "cell_type": "code",
   "execution_count": 4,
   "metadata": {},
   "outputs": [
    {
     "ename": "KeyboardInterrupt",
     "evalue": "",
     "output_type": "error",
     "traceback": [
      "\u001b[1;31m---------------------------------------------------------------------------\u001b[0m",
      "\u001b[1;31mKeyboardInterrupt\u001b[0m                         Traceback (most recent call last)",
      "\u001b[1;32md:\\projects\\knk\\sandbox.ipynb Ячейка 3\u001b[0m in \u001b[0;36m<cell line: 2>\u001b[1;34m()\u001b[0m\n\u001b[0;32m      <a href='vscode-notebook-cell:/d%3A/projects/knk/sandbox.ipynb#W2sZmlsZQ%3D%3D?line=2'>3</a>\u001b[0m sol\u001b[39m.\u001b[39miterate_cells(\u001b[39m*\u001b[39m\u001b[39m*\u001b[39miteration_dict)\n\u001b[0;32m      <a href='vscode-notebook-cell:/d%3A/projects/knk/sandbox.ipynb#W2sZmlsZQ%3D%3D?line=3'>4</a>\u001b[0m clear_output(wait\u001b[39m=\u001b[39m\u001b[39mTrue\u001b[39;00m)\n\u001b[1;32m----> <a href='vscode-notebook-cell:/d%3A/projects/knk/sandbox.ipynb#W2sZmlsZQ%3D%3D?line=4'>5</a>\u001b[0m sol\u001b[39m.\u001b[39;49mplot()\n",
      "File \u001b[1;32md:\\projects\\knk\\solution.py:208\u001b[0m, in \u001b[0;36mSolution.plot\u001b[1;34m(self)\u001b[0m\n\u001b[0;32m    206\u001b[0m grid \u001b[39m=\u001b[39m np\u001b[39m.\u001b[39mlinspace(\u001b[39mself\u001b[39m\u001b[39m.\u001b[39marea_lims[\u001b[39m0\u001b[39m,\u001b[39m0\u001b[39m], \u001b[39mself\u001b[39m\u001b[39m.\u001b[39marea_lims[\u001b[39m0\u001b[39m,\u001b[39m1\u001b[39m], n, endpoint\u001b[39m=\u001b[39m\u001b[39mFalse\u001b[39;00m)\n\u001b[0;32m    207\u001b[0m \u001b[39mfor\u001b[39;00m i \u001b[39min\u001b[39;00m \u001b[39mrange\u001b[39m(\u001b[39mlen\u001b[39m(grid)): \n\u001b[1;32m--> 208\u001b[0m     func[i] \u001b[39m=\u001b[39m \u001b[39mself\u001b[39;49m\u001b[39m.\u001b[39;49meval(grid[i], [\u001b[39m0\u001b[39;49m])\n\u001b[0;32m    209\u001b[0m plt\u001b[39m.\u001b[39mplot(func)\n\u001b[0;32m    210\u001b[0m plt\u001b[39m.\u001b[39mshow()\n",
      "File \u001b[1;32md:\\projects\\knk\\solution.py:79\u001b[0m, in \u001b[0;36mSolution.eval\u001b[1;34m(self, point, derivatives, cell_num, local, cells_closed_right)\u001b[0m\n\u001b[0;32m     76\u001b[0m \u001b[39melse\u001b[39;00m:\n\u001b[0;32m     77\u001b[0m     cell_num, local_point \u001b[39m=\u001b[39m \u001b[39mself\u001b[39m\u001b[39m.\u001b[39mlocalize(point, cells_closed_right)\n\u001b[1;32m---> 79\u001b[0m coefs \u001b[39m=\u001b[39m \u001b[39mself\u001b[39;49m\u001b[39m.\u001b[39;49mcells_coefs[cell_num]\n\u001b[0;32m     80\u001b[0m result \u001b[39m=\u001b[39m copy\u001b[39m.\u001b[39mdeepcopy(coefs)\n\u001b[0;32m     81\u001b[0m \u001b[39m#applying coefs tensor to evaled basis in point\u001b[39;00m\n",
      "\u001b[1;31mKeyboardInterrupt\u001b[0m: "
     ]
    }
   ],
   "source": [
    "from IPython.display import clear_output\n",
    "for i in range(1000):\n",
    "    sol.iterate_cells(**iteration_dict)\n",
    "    clear_output(wait=True)\n",
    "    sol.plot()"
   ]
  },
  {
   "cell_type": "code",
   "execution_count": null,
   "metadata": {},
   "outputs": [],
   "source": []
  }
 ],
 "metadata": {
  "kernelspec": {
   "display_name": "Python 3.9.0 ('knk')",
   "language": "python",
   "name": "python3"
  },
  "language_info": {
   "codemirror_mode": {
    "name": "ipython",
    "version": 3
   },
   "file_extension": ".py",
   "mimetype": "text/x-python",
   "name": "python",
   "nbconvert_exporter": "python",
   "pygments_lexer": "ipython3",
   "version": "3.9.0"
  },
  "orig_nbformat": 4,
  "vscode": {
   "interpreter": {
    "hash": "4821116c1890b679e0ac5bc3503030715d51cd2bd94355d2bee0c3e5ac19d371"
   }
  }
 },
 "nbformat": 4,
 "nbformat_minor": 2
}
